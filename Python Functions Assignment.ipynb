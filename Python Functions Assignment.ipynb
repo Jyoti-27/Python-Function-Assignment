{
 "cells": [
  {
   "cell_type": "markdown",
   "metadata": {},
   "source": [
    "- Q.1 Write a Python function that accepts a string and calculates the number of uppercase letters and lowercase letters. "
   ]
  },
  {
   "cell_type": "code",
   "execution_count": 20,
   "metadata": {},
   "outputs": [
    {
     "name": "stdout",
     "output_type": "stream",
     "text": [
      "(7, 51)\n"
     ]
    }
   ],
   "source": [
    "# Method 1\n",
    "\n",
    "def count_upper_lower(string):\n",
    "    count_upper = 0\n",
    "    count_lower = 0\n",
    "    for char in string:\n",
    "        if char.islower():\n",
    "            count_lower += 1\n",
    "        elif char.isupper():\n",
    "            count_upper +=1\n",
    "        else:    # added an extra case for the rest of the chars that aren't lower non upper\n",
    "            pass\n",
    "    return(count_upper, count_lower)\n",
    "print(count_upper_lower(\"Hello I am Jyoti and I would like to become a Successful Data Scientist\"))"
   ]
  },
  {
   "cell_type": "code",
   "execution_count": 30,
   "metadata": {},
   "outputs": [
    {
     "name": "stdout",
     "output_type": "stream",
     "text": [
      "Upper case letters are : 7\n",
      "Lower case letters are : 51\n"
     ]
    }
   ],
   "source": [
    "# Method 2\n",
    "\n",
    "def upperlower(string):\n",
    "    u=0\n",
    "    l=0\n",
    "    for i in string:\n",
    "        if i.isupper():\n",
    "            u=u+1\n",
    "        elif i.islower():\n",
    "            l=l+1\n",
    "    print(\"Upper case letters are :\",u)\n",
    "    print(\"Lower case letters are :\",l)\n",
    "upperlower(\"Hello I am Jyoti and I would like to become a Successful Data Scientist\")"
   ]
  },
  {
   "cell_type": "markdown",
   "metadata": {},
   "source": [
    "- Q.2 Write a Python function to create and print a list where the values are squares of numbers between 1 and 30 (both               included)."
   ]
  },
  {
   "cell_type": "code",
   "execution_count": 47,
   "metadata": {},
   "outputs": [
    {
     "name": "stdout",
     "output_type": "stream",
     "text": [
      "[1, 4, 9, 16, 25, 36, 49, 64, 81, 100, 121, 144, 169, 196, 225, 256, 289, 324, 361, 400, 441, 484, 529, 576, 625, 676, 729, 784, 841, 900]\n"
     ]
    }
   ],
   "source": [
    "# Method 1\n",
    "\n",
    "def print_Square_Values():\n",
    "    l = list()\n",
    "    for i in range(1,31):\n",
    "        l.append(i**2)\n",
    "    print(l)\n",
    "print_Square_Values()"
   ]
  },
  {
   "cell_type": "code",
   "execution_count": null,
   "metadata": {},
   "outputs": [],
   "source": [
    "# Method 2\n",
    "\n",
    "def squarelist(): \n",
    "    l=[] \n",
    "    for i in range(1,31): \n",
    "        l.append(i*i) \n",
    "    return l \n",
    "l=[] \n",
    "l=squarelist() \n",
    "print(l) "
   ]
  },
  {
   "cell_type": "code",
   "execution_count": 45,
   "metadata": {},
   "outputs": [
    {
     "name": "stdout",
     "output_type": "stream",
     "text": [
      "[1, 4, 9, 16, 25, 36, 49, 64, 81, 100, 121, 144, 169, 196, 225, 256, 289, 324, 361, 400, 441, 484, 529, 576, 625, 676, 729, 784, 841, 900]\n"
     ]
    }
   ],
   "source": [
    "# Method 3\n",
    "\n",
    "sq_Values = lambda a,b: [i * i for i in range(a,b+1)]\n",
    "\n",
    "print (sq_Values(1,30))"
   ]
  },
  {
   "cell_type": "code",
   "execution_count": 11,
   "metadata": {},
   "outputs": [
    {
     "name": "stdout",
     "output_type": "stream",
     "text": [
      "[0, 1, 4, 9, 16, 25, 36, 49, 64, 81, 100, 121, 144, 169, 196, 225, 256, 289, 324, 361, 400, 441, 484, 529, 576, 625, 676, 729, 784, 841, 900]\n"
     ]
    }
   ],
   "source": [
    "# Method 4\n",
    "\n",
    "def sq(n): \n",
    "    list1=[] \n",
    "    for i in range(n+1): \n",
    "        a=i*i \n",
    "        list1.append(a) \n",
    "    print(list1)\n",
    "sq(30)"
   ]
  },
  {
   "cell_type": "markdown",
   "metadata": {},
   "source": [
    "- Q.3 Create a function that counts the number of elements within a list that are greater than 30. "
   ]
  },
  {
   "cell_type": "code",
   "execution_count": 54,
   "metadata": {},
   "outputs": [
    {
     "name": "stdout",
     "output_type": "stream",
     "text": [
      "The list : [100, 75, 21, 61, 29, 89]\n",
      "The numbers greater than 30 are : 4\n"
     ]
    }
   ],
   "source": [
    "# Method 1\n",
    "\n",
    "# initializing list \n",
    "list = [100, 75, 21, 61, 29, 89] \n",
    "  \n",
    "# initializing k \n",
    "k = 30\n",
    "  \n",
    "# printing list  \n",
    "print (\"The list : \" + str(list)) \n",
    "  \n",
    "# using list comprehension \n",
    "# to get numbers > k \n",
    "count = len([i for i in list if i > k]) \n",
    "  \n",
    "# printing the intersection  \n",
    "print (\"The numbers greater than 30 are : \" + str(count)) "
   ]
  },
  {
   "cell_type": "code",
   "execution_count": 60,
   "metadata": {},
   "outputs": [
    {
     "name": "stdout",
     "output_type": "stream",
     "text": [
      "The list : [15, 27, 35, 66, 3, 48]\n",
      "The numbers greater than 30 are : 3\n"
     ]
    }
   ],
   "source": [
    "# Method 2\n",
    "\n",
    "from bisect import bisect \n",
    "  \n",
    "# initializing list \n",
    "list1 = [15, 27, 35, 66, 3, 48] \n",
    "  \n",
    "# initializing k \n",
    "k = 30\n",
    "  \n",
    "# printing list  \n",
    "print (\"The list : \" + str(list1)) \n",
    "  \n",
    "# using bisect() + sort() \n",
    "# to get numbers > k \n",
    "list1.sort() \n",
    "count = len(list1) - bisect(list1, k) \n",
    "# printing the intersection  \n",
    "print (\"The numbers greater than 30 are : \" + str(count)) "
   ]
  },
  {
   "cell_type": "code",
   "execution_count": 61,
   "metadata": {},
   "outputs": [
    {
     "name": "stdout",
     "output_type": "stream",
     "text": [
      "2\n"
     ]
    }
   ],
   "source": [
    "# Method 3\n",
    "\n",
    "list2 = [11, 53, 24, 95]\n",
    "a = 30\n",
    "\n",
    "Greater_elements = [element for element in list2 if element > a]\n",
    "number_of_elements = len(Greater_elements)\n",
    "\n",
    "print(number_of_elements)"
   ]
  },
  {
   "cell_type": "code",
   "execution_count": 12,
   "metadata": {},
   "outputs": [
    {
     "name": "stdout",
     "output_type": "stream",
     "text": [
      "[34, 65, 23, 11, 10, 56, 78, 900, 455, 655, 1, 2]\n",
      "Numbers greater than 30 in the given list : 7\n"
     ]
    }
   ],
   "source": [
    "# Method 4\n",
    "\n",
    "list2=[34,65,23,11,10,56,78,900,455,655,1,2]\n",
    "def greater(list2):\n",
    "    c=0\n",
    "    for i in list2:\n",
    "        if i>30:\n",
    "            c=c+1\n",
    "    print(list2)\n",
    "    print(\"Numbers greater than 30 in the given list :\",c)\n",
    "greater(list2)"
   ]
  },
  {
   "cell_type": "markdown",
   "metadata": {},
   "source": [
    "- Q.4 Write a Python function that takes a list and returns a  new list with unique elements of the first list. "
   ]
  },
  {
   "cell_type": "code",
   "execution_count": 2,
   "metadata": {},
   "outputs": [
    {
     "name": "stdout",
     "output_type": "stream",
     "text": [
      "[1]\n"
     ]
    }
   ],
   "source": [
    "# Method 1\n",
    "\n",
    "def unique_list(l):\n",
    "    x = []\n",
    "    for a in l:\n",
    "        if a not in x:\n",
    "            x.append(a)\n",
    "        return x\n",
    "print(unique_list([1,2,3,3,3,3,4,5])) "
   ]
  },
  {
   "cell_type": "code",
   "execution_count": 9,
   "metadata": {},
   "outputs": [
    {
     "name": "stdout",
     "output_type": "stream",
     "text": [
      "[33, 34, 11, 22, 55]\n"
     ]
    }
   ],
   "source": [
    "# Method 2\n",
    "\n",
    "numbers = [11, 22, 22, 33, 34, 34, 55]\n",
    "unique_numbers = list(set(numbers))\n",
    "print(unique_numbers)"
   ]
  },
  {
   "cell_type": "code",
   "execution_count": 13,
   "metadata": {},
   "outputs": [
    {
     "data": {
      "text/plain": [
       "[1, 2, 3, 4, 5, 6, 7, 8, 9, 100, 122, 11, 121]"
      ]
     },
     "execution_count": 13,
     "metadata": {},
     "output_type": "execute_result"
    }
   ],
   "source": [
    "# Method 3\n",
    "\n",
    "ulist=[1,2,3,4,5,1,2,3,1,5,6,7,8,9,100,122,122,11,121,121,11]\n",
    "def uniq(ulist):\n",
    "    list3=[]\n",
    "    for l in ulist:\n",
    "        if l not in list3:\n",
    "            list3.append(l)\n",
    "    return(list3)\n",
    "    print(\"New list with unique elements :\",list3)\n",
    "uniq(ulist)"
   ]
  },
  {
   "cell_type": "markdown",
   "metadata": {},
   "source": [
    "- Q.5 Create a function showEmployee() in such a way that it should accept employee name, and it’s salary and display both, and       if the salary is missing in function call it should show it as 9000\n"
   ]
  },
  {
   "cell_type": "code",
   "execution_count": 31,
   "metadata": {},
   "outputs": [
    {
     "name": "stdout",
     "output_type": "stream",
     "text": [
      "Employee Jyoti salary is: 9000\n",
      "Employee Jyoti salary is: 9000\n"
     ]
    }
   ],
   "source": [
    "def showEmployee(name, salary=9000):\n",
    "    print(\"Employee\", name, \"salary is:\", salary)\n",
    "showEmployee(\"Jyoti\", 9000)\n",
    "showEmployee(\"Jyoti\")"
   ]
  },
  {
   "cell_type": "markdown",
   "metadata": {},
   "source": [
    "- Q.6 Write a Python program to count the even, odd numbers in a given array of integers using Lambda."
   ]
  },
  {
   "cell_type": "code",
   "execution_count": 13,
   "metadata": {},
   "outputs": [
    {
     "name": "stdout",
     "output_type": "stream",
     "text": [
      "Original arrays:\n",
      "[1, 2, 3, 5, 7, 8, 9, 10]\n",
      "\n",
      "Number of even numbers in the above array:  3\n",
      "\n",
      "Number of odd numbers in the above array:  5\n"
     ]
    }
   ],
   "source": [
    "# Method 1\n",
    "\n",
    "array_numbers = [1, 2, 3, 5, 7, 8, 9, 10]\n",
    "print(\"Original arrays:\")\n",
    "print(array_numbers)\n",
    "even_numbers = len(list(filter(lambda x: (x%2 == 0) , array_numbers)))\n",
    "odd_numbers = len(list(filter(lambda x: (x%2 != 0) , array_numbers)))\n",
    "print(\"\\nNumber of even numbers in the above array: \", even_numbers)\n",
    "print(\"\\nNumber of odd numbers in the above array: \", odd_numbers)"
   ]
  },
  {
   "cell_type": "code",
   "execution_count": 23,
   "metadata": {},
   "outputs": [
    {
     "name": "stdout",
     "output_type": "stream",
     "text": [
      "Even numbers : 5\n",
      "Odd numbers : 4\n"
     ]
    }
   ],
   "source": [
    "# Method 2\n",
    "\n",
    "arr=[24,25,34,65,77,88,98,100,23]\n",
    "eve=len(list(filter(lambda el1: el1%2==0,arr)))\n",
    "odd=len(list(filter(lambda ol1: ol1%2!=0,arr)))\n",
    "print(\"Even numbers :\", eve)\n",
    "print(\"Odd numbers :\", odd)"
   ]
  },
  {
   "cell_type": "markdown",
   "metadata": {},
   "source": [
    "- Q.7 Write a Python program to add two given lists using map and lambda"
   ]
  },
  {
   "cell_type": "code",
   "execution_count": 15,
   "metadata": {},
   "outputs": [
    {
     "name": "stdout",
     "output_type": "stream",
     "text": [
      "Original list:\n",
      "[1, 2, 3]\n",
      "[4, 5, 6]\n",
      "\n",
      "Result: After adding  of two lists\n",
      "[5, 7, 9]\n"
     ]
    }
   ],
   "source": [
    "# Method 1\n",
    "\n",
    "list4 = [1, 2, 3]\n",
    "list5 = [4, 5, 6]\n",
    "print(\"Original list:\")\n",
    "print(list4)\n",
    "print(list5)\n",
    "result = map(lambda x, y: x + y, list4, list5)\n",
    "print(\"\\nResult: After adding  of two lists\")\n",
    "print(list(result))"
   ]
  },
  {
   "cell_type": "code",
   "execution_count": 24,
   "metadata": {},
   "outputs": [
    {
     "name": "stdout",
     "output_type": "stream",
     "text": [
      "Lists added result : [3, 5, 8, 11]\n"
     ]
    }
   ],
   "source": [
    "# Method 2\n",
    "\n",
    "list5=[1,2,3,5]\n",
    "list6=[2,3,5,6]\n",
    "add_list=list(map(lambda x,y:x+y,list5,list6))\n",
    "print(\"Lists added result :\",add_list)"
   ]
  },
  {
   "cell_type": "markdown",
   "metadata": {},
   "source": [
    "- Q.8  Write a Python program to rearrange positive and negative numbers in a given array using Lambda and filter."
   ]
  },
  {
   "cell_type": "code",
   "execution_count": 27,
   "metadata": {},
   "outputs": [
    {
     "name": "stdout",
     "output_type": "stream",
     "text": [
      "Original arrays:\n",
      "[-1, 2, -3, 5, 7, 8, 9, -10]\n",
      "\n",
      "Rearrange positive and negative numbers of the said array:\n",
      "[-1, -3, -10, 2, 5, 7, 8, 9]\n"
     ]
    }
   ],
   "source": [
    "# Method 1\n",
    "\n",
    "array_nums = [-1, 2, -3, 5, 7, 8, 9, -10]\n",
    "print(\"Original arrays:\")\n",
    "print(array_nums)\n",
    "result =[x for x in array_nums if x < 0] + [x for x in array_nums if x >= 0]\n",
    "print(\"\\nRearrange positive and negative numbers of the said array:\")\n",
    "print(result)"
   ]
  },
  {
   "cell_type": "code",
   "execution_count": 28,
   "metadata": {},
   "outputs": [
    {
     "name": "stdout",
     "output_type": "stream",
     "text": [
      "[5, -8, 8, -9, 6, -7, 7, -5, 5, -1, 2]\n"
     ]
    }
   ],
   "source": [
    "# Method 2\n",
    "\n",
    "data=[-9,-8,-7,5,6,8,7,2,5,-1,-5] \n",
    "data=list(filter(lambda x:x!=0,data)        )#no zero \n",
    " \n",
    "nPositive=sum(map(lambda x:1 if x>0 else 0,data)) \n",
    "if nPositive>len(data)-nPositive: \n",
    "    iPositve=0 \n",
    "    iNegative=1 \n",
    "else: \n",
    "    iPositve=1 \n",
    "    iNegative=0 \n",
    "while True: \n",
    "    while iPositve<len(data) and data[iPositve]>0: \n",
    "        iPositve+=2 \n",
    "    while iNegative<len(data) and data[iNegative]<0: \n",
    "        iNegative+=2 \n",
    "    if iPositve>=len(data) or iNegative>=len(data): \n",
    "        break \n",
    "    t=data[iPositve] \n",
    "    data[iPositve]=data[iNegative] \n",
    "    data[iNegative]=t \n",
    "print(data) "
   ]
  },
  {
   "cell_type": "markdown",
   "metadata": {},
   "source": [
    "- Q.9  Write a Python program to filter a list of integers using Lambda. "
   ]
  },
  {
   "cell_type": "code",
   "execution_count": 9,
   "metadata": {},
   "outputs": [
    {
     "name": "stdout",
     "output_type": "stream",
     "text": [
      "Original list of integers:\n",
      "[1, 2, 3, 4, 5, 6, 7, 8, 9, 10]\n",
      "\n",
      "Even numbers from the said list:\n",
      "[2, 4, 6, 8, 10]\n",
      "\n",
      "Odd numbers from the said list:\n",
      "[1, 3, 5, 7, 9]\n"
     ]
    }
   ],
   "source": [
    "# Method 1\n",
    "\n",
    "new_list = [1, 2, 3, 4, 5, 6, 7, 8, 9, 10]\n",
    "print(\"Original list of integers:\")\n",
    "print(new_list)\n",
    "print(\"\\nEven numbers from the said list:\")\n",
    "even_nums = list(filter(lambda x: x%2 == 0, new_list))\n",
    "print(even_nums)\n",
    "print(\"\\nOdd numbers from the said list:\")\n",
    "odd_nums = list(filter(lambda x: x%2 != 0, new_list))\n",
    "print(odd_nums)"
   ]
  },
  {
   "cell_type": "code",
   "execution_count": 28,
   "metadata": {},
   "outputs": [
    {
     "name": "stdout",
     "output_type": "stream",
     "text": [
      "Filtered using some condition : [67, 88]\n"
     ]
    }
   ],
   "source": [
    "# Method 2\n",
    "\n",
    "lst8 = [88, 28, 67, 46, 32, 12]\n",
    "small = filter(lambda x: x>60, lst8)\n",
    "print(\"Filtered using some condition :\",list(sorted(small)))"
   ]
  },
  {
   "cell_type": "markdown",
   "metadata": {},
   "source": [
    "- Q.10 Write a Python program to find the intersection of two given arrays using Lambda and filter."
   ]
  },
  {
   "cell_type": "code",
   "execution_count": 10,
   "metadata": {},
   "outputs": [
    {
     "name": "stdout",
     "output_type": "stream",
     "text": [
      "Original arrays:\n",
      "[1, 2, 3, 5, 7, 8, 9, 10]\n",
      "[1, 2, 4, 8, 9]\n",
      "\n",
      "Intersection of the said arrays:  [1, 2, 8, 9]\n"
     ]
    }
   ],
   "source": [
    "# Method 1\n",
    "\n",
    "array_list6 = [1, 2, 3, 5, 7, 8, 9, 10]\n",
    "array_list7 = [1, 2, 4, 8, 9]\n",
    "print(\"Original arrays:\")\n",
    "print(array_list6)\n",
    "print(array_list7)\n",
    "result = list(filter(lambda x: x in array_list6, array_list7)) \n",
    "print (\"\\nIntersection of the said arrays: \",result)"
   ]
  },
  {
   "cell_type": "code",
   "execution_count": 29,
   "metadata": {},
   "outputs": [
    {
     "name": "stdout",
     "output_type": "stream",
     "text": [
      "List1 : [9, 8, 7, 6, 10, 12]\n",
      "List2 : [10, 12, 7, 8, 5, 4]\n",
      "Intersected values of two lists : [10, 12, 7, 8]\n"
     ]
    }
   ],
   "source": [
    "# Method 2\n",
    "\n",
    "listi=[9,8,7,6,10,12]\n",
    "listj=[10,12,7,8,5,4]\n",
    "res=list(filter(lambda x:x in listi,listj))\n",
    "print(\"List1 :\", listi)\n",
    "print(\"List2 :\", listj)\n",
    "print(\"Intersected values of two lists :\", res)"
   ]
  },
  {
   "cell_type": "code",
   "execution_count": null,
   "metadata": {},
   "outputs": [],
   "source": [
    "# Method 3\n",
    "\n",
    "def interSection(arr1,arr2): # finding common elements\n",
    "\n",
    "# using filter method oto find identical values via lambda function\n",
    "     values = list(filter(lambda x: x in arr1, arr2))\n",
    "     print (\"Intersection of arr1 & arr2 is: \",values)\n",
    "\n",
    "# Driver program\n",
    "if __name__ == \"__main__\":\n",
    "    arr1 = ['D','A','T','A','S','C','I','E','N','T','I','S','T']\n",
    "    arr2 = ['P','Y','T','H','O','N']\n",
    "    interSection(arr1,arr2)"
   ]
  },
  {
   "cell_type": "code",
   "execution_count": null,
   "metadata": {},
   "outputs": [],
   "source": []
  },
  {
   "cell_type": "code",
   "execution_count": null,
   "metadata": {},
   "outputs": [],
   "source": []
  },
  {
   "cell_type": "code",
   "execution_count": null,
   "metadata": {},
   "outputs": [],
   "source": []
  }
 ],
 "metadata": {
  "kernelspec": {
   "display_name": "Python 3",
   "language": "python",
   "name": "python3"
  },
  "language_info": {
   "codemirror_mode": {
    "name": "ipython",
    "version": 3
   },
   "file_extension": ".py",
   "mimetype": "text/x-python",
   "name": "python",
   "nbconvert_exporter": "python",
   "pygments_lexer": "ipython3",
   "version": "3.7.6"
  }
 },
 "nbformat": 4,
 "nbformat_minor": 4
}
